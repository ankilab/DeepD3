{
  "nbformat": 4,
  "nbformat_minor": 0,
  "metadata": {
    "colab": {
      "provenance": [],
      "gpuType": "T4"
    },
    "kernelspec": {
      "name": "python3",
      "display_name": "Python 3"
    },
    "language_info": {
      "name": "python"
    },
    "accelerator": "GPU"
  },
  "cells": [
    {
      "cell_type": "code",
      "execution_count": 1,
      "metadata": {
        "colab": {
          "base_uri": "https://localhost:8080/"
        },
        "id": "QhkyxEMCWjyw",
        "outputId": "93edecee-87fd-4647-964b-46b39fe23676"
      },
      "outputs": [
        {
          "output_type": "stream",
          "name": "stdout",
          "text": [
            "Looking in indexes: https://pypi.org/simple, https://us-python.pkg.dev/colab-wheels/public/simple/\n",
            "Collecting deepd3\n",
            "  Downloading deepd3-0.1-py3-none-any.whl (47 kB)\n",
            "\u001b[2K     \u001b[90m━━━━━━━━━━━━━━━━━━━━━━━━━━━━━━━━━━━━━━━━\u001b[0m \u001b[32m47.9/47.9 kB\u001b[0m \u001b[31m1.9 MB/s\u001b[0m eta \u001b[36m0:00:00\u001b[0m\n",
            "\u001b[?25hCollecting pyqtgraph>=0.10.0 (from deepd3)\n",
            "  Downloading pyqtgraph-0.13.3-py3-none-any.whl (960 kB)\n",
            "\u001b[2K     \u001b[90m━━━━━━━━━━━━━━━━━━━━━━━━━━━━━━━━━━━━━━\u001b[0m \u001b[32m961.0/961.0 kB\u001b[0m \u001b[31m18.5 MB/s\u001b[0m eta \u001b[36m0:00:00\u001b[0m\n",
            "\u001b[?25hRequirement already satisfied: numpy in /usr/local/lib/python3.10/dist-packages (from deepd3) (1.22.4)\n",
            "Requirement already satisfied: numba in /usr/local/lib/python3.10/dist-packages (from deepd3) (0.56.4)\n",
            "Collecting flammkuchen (from deepd3)\n",
            "  Downloading flammkuchen-1.0.2-py2.py3-none-any.whl (16 kB)\n",
            "Collecting pyqt5 (from deepd3)\n",
            "  Downloading PyQt5-5.15.9-cp37-abi3-manylinux_2_17_x86_64.whl (8.4 MB)\n",
            "\u001b[2K     \u001b[90m━━━━━━━━━━━━━━━━━━━━━━━━━━━━━━━━━━━━━━━━\u001b[0m \u001b[32m8.4/8.4 MB\u001b[0m \u001b[31m80.4 MB/s\u001b[0m eta \u001b[36m0:00:00\u001b[0m\n",
            "\u001b[?25hRequirement already satisfied: scikit-image in /usr/local/lib/python3.10/dist-packages (from deepd3) (0.19.3)\n",
            "Requirement already satisfied: imageio in /usr/local/lib/python3.10/dist-packages (from deepd3) (2.25.1)\n",
            "Requirement already satisfied: imageio-ffmpeg in /usr/local/lib/python3.10/dist-packages (from deepd3) (0.4.8)\n",
            "Requirement already satisfied: opencv-python in /usr/local/lib/python3.10/dist-packages (from deepd3) (4.7.0.72)\n",
            "Requirement already satisfied: pandas in /usr/local/lib/python3.10/dist-packages (from deepd3) (1.5.3)\n",
            "Requirement already satisfied: tqdm in /usr/local/lib/python3.10/dist-packages (from deepd3) (4.65.0)\n",
            "Collecting roifile (from deepd3)\n",
            "  Downloading roifile-2023.5.12-py3-none-any.whl (15 kB)\n",
            "Collecting segmentation-models (from deepd3)\n",
            "  Downloading segmentation_models-1.0.1-py3-none-any.whl (33 kB)\n",
            "Collecting connected-components-3d (from deepd3)\n",
            "  Downloading connected_components_3d-3.12.1-cp310-cp310-manylinux_2_17_x86_64.manylinux2014_x86_64.whl (2.9 MB)\n",
            "\u001b[2K     \u001b[90m━━━━━━━━━━━━━━━━━━━━━━━━━━━━━━━━━━━━━━━━\u001b[0m \u001b[32m2.9/2.9 MB\u001b[0m \u001b[31m69.2 MB/s\u001b[0m eta \u001b[36m0:00:00\u001b[0m\n",
            "\u001b[?25hRequirement already satisfied: albumentations in /usr/local/lib/python3.10/dist-packages (from deepd3) (1.2.1)\n",
            "Requirement already satisfied: scipy in /usr/local/lib/python3.10/dist-packages (from albumentations->deepd3) (1.10.1)\n",
            "Requirement already satisfied: PyYAML in /usr/local/lib/python3.10/dist-packages (from albumentations->deepd3) (6.0)\n",
            "Requirement already satisfied: qudida>=0.0.4 in /usr/local/lib/python3.10/dist-packages (from albumentations->deepd3) (0.0.4)\n",
            "Requirement already satisfied: opencv-python-headless>=4.1.1 in /usr/local/lib/python3.10/dist-packages (from albumentations->deepd3) (4.7.0.72)\n",
            "Requirement already satisfied: networkx>=2.2 in /usr/local/lib/python3.10/dist-packages (from scikit-image->deepd3) (3.1)\n",
            "Requirement already satisfied: pillow!=7.1.0,!=7.1.1,!=8.3.0,>=6.1.0 in /usr/local/lib/python3.10/dist-packages (from scikit-image->deepd3) (8.4.0)\n",
            "Requirement already satisfied: tifffile>=2019.7.26 in /usr/local/lib/python3.10/dist-packages (from scikit-image->deepd3) (2023.4.12)\n",
            "Requirement already satisfied: PyWavelets>=1.1.1 in /usr/local/lib/python3.10/dist-packages (from scikit-image->deepd3) (1.4.1)\n",
            "Requirement already satisfied: packaging>=20.0 in /usr/local/lib/python3.10/dist-packages (from scikit-image->deepd3) (23.1)\n",
            "Requirement already satisfied: tables in /usr/local/lib/python3.10/dist-packages (from flammkuchen->deepd3) (3.8.0)\n",
            "Requirement already satisfied: llvmlite<0.40,>=0.39.0dev0 in /usr/local/lib/python3.10/dist-packages (from numba->deepd3) (0.39.1)\n",
            "Requirement already satisfied: setuptools in /usr/local/lib/python3.10/dist-packages (from numba->deepd3) (67.7.2)\n",
            "Requirement already satisfied: python-dateutil>=2.8.1 in /usr/local/lib/python3.10/dist-packages (from pandas->deepd3) (2.8.2)\n",
            "Requirement already satisfied: pytz>=2020.1 in /usr/local/lib/python3.10/dist-packages (from pandas->deepd3) (2022.7.1)\n",
            "Collecting PyQt5-sip<13,>=12.11 (from pyqt5->deepd3)\n",
            "  Downloading PyQt5_sip-12.12.1-cp310-cp310-manylinux_2_5_x86_64.manylinux1_x86_64.whl (360 kB)\n",
            "\u001b[2K     \u001b[90m━━━━━━━━━━━━━━━━━━━━━━━━━━━━━━━━━━━━━━\u001b[0m \u001b[32m360.5/360.5 kB\u001b[0m \u001b[31m38.4 MB/s\u001b[0m eta \u001b[36m0:00:00\u001b[0m\n",
            "\u001b[?25hCollecting PyQt5-Qt5>=5.15.2 (from pyqt5->deepd3)\n",
            "  Downloading PyQt5_Qt5-5.15.2-py3-none-manylinux2014_x86_64.whl (59.9 MB)\n",
            "\u001b[2K     \u001b[90m━━━━━━━━━━━━━━━━━━━━━━━━━━━━━━━━━━━━━━━━\u001b[0m \u001b[32m59.9/59.9 MB\u001b[0m \u001b[31m13.7 MB/s\u001b[0m eta \u001b[36m0:00:00\u001b[0m\n",
            "\u001b[?25hCollecting keras-applications<=1.0.8,>=1.0.7 (from segmentation-models->deepd3)\n",
            "  Downloading Keras_Applications-1.0.8-py3-none-any.whl (50 kB)\n",
            "\u001b[2K     \u001b[90m━━━━━━━━━━━━━━━━━━━━━━━━━━━━━━━━━━━━━━━━\u001b[0m \u001b[32m50.7/50.7 kB\u001b[0m \u001b[31m6.6 MB/s\u001b[0m eta \u001b[36m0:00:00\u001b[0m\n",
            "\u001b[?25hCollecting image-classifiers==1.0.0 (from segmentation-models->deepd3)\n",
            "  Downloading image_classifiers-1.0.0-py3-none-any.whl (19 kB)\n",
            "Collecting efficientnet==1.0.0 (from segmentation-models->deepd3)\n",
            "  Downloading efficientnet-1.0.0-py3-none-any.whl (17 kB)\n",
            "Requirement already satisfied: h5py in /usr/local/lib/python3.10/dist-packages (from keras-applications<=1.0.8,>=1.0.7->segmentation-models->deepd3) (3.8.0)\n",
            "Requirement already satisfied: six>=1.5 in /usr/local/lib/python3.10/dist-packages (from python-dateutil>=2.8.1->pandas->deepd3) (1.16.0)\n",
            "Requirement already satisfied: scikit-learn>=0.19.1 in /usr/local/lib/python3.10/dist-packages (from qudida>=0.0.4->albumentations->deepd3) (1.2.2)\n",
            "Requirement already satisfied: typing-extensions in /usr/local/lib/python3.10/dist-packages (from qudida>=0.0.4->albumentations->deepd3) (4.5.0)\n",
            "Requirement already satisfied: cython>=0.29.21 in /usr/local/lib/python3.10/dist-packages (from tables->flammkuchen->deepd3) (0.29.34)\n",
            "Requirement already satisfied: numexpr>=2.6.2 in /usr/local/lib/python3.10/dist-packages (from tables->flammkuchen->deepd3) (2.8.4)\n",
            "Requirement already satisfied: blosc2~=2.0.0 in /usr/local/lib/python3.10/dist-packages (from tables->flammkuchen->deepd3) (2.0.0)\n",
            "Requirement already satisfied: py-cpuinfo in /usr/local/lib/python3.10/dist-packages (from tables->flammkuchen->deepd3) (9.0.0)\n",
            "Requirement already satisfied: msgpack in /usr/local/lib/python3.10/dist-packages (from blosc2~=2.0.0->tables->flammkuchen->deepd3) (1.0.5)\n",
            "Requirement already satisfied: joblib>=1.1.1 in /usr/local/lib/python3.10/dist-packages (from scikit-learn>=0.19.1->qudida>=0.0.4->albumentations->deepd3) (1.2.0)\n",
            "Requirement already satisfied: threadpoolctl>=2.0.0 in /usr/local/lib/python3.10/dist-packages (from scikit-learn>=0.19.1->qudida>=0.0.4->albumentations->deepd3) (3.1.0)\n",
            "Installing collected packages: PyQt5-Qt5, roifile, pyqtgraph, PyQt5-sip, connected-components-3d, pyqt5, keras-applications, image-classifiers, flammkuchen, efficientnet, segmentation-models, deepd3\n",
            "Successfully installed PyQt5-Qt5-5.15.2 PyQt5-sip-12.12.1 connected-components-3d-3.12.1 deepd3-0.1 efficientnet-1.0.0 flammkuchen-1.0.2 image-classifiers-1.0.0 keras-applications-1.0.8 pyqt5-5.15.9 pyqtgraph-0.13.3 roifile-2023.5.12 segmentation-models-1.0.1\n"
          ]
        }
      ],
      "source": [
        "!pip install deepd3"
      ]
    },
    {
      "cell_type": "code",
      "source": [
        "# Neural network libraries\n",
        "import tensorflow as tf\n",
        "from tensorflow.keras.optimizers import Adam\n",
        "\n",
        "\n",
        "# Plotting\n",
        "import matplotlib.pyplot as plt\n",
        "%matplotlib inline\n",
        "\n",
        "# DeepD3\n",
        "from deepd3.model import DeepD3_Model\n",
        "from deepd3.training.stream import DataGeneratorStream"
      ],
      "metadata": {
        "id": "W2mYkqUdWyFR"
      },
      "execution_count": 2,
      "outputs": []
    },
    {
      "cell_type": "code",
      "source": [
        "import flammkuchen as fl\n",
        "import numpy as np\n",
        "from deepd3.core.analysis import Stack\n",
        "from tensorflow.keras.models import load_model\n",
        "pred_fn = \"predictions.blosc\"\n",
        "\n",
        "# need to change the custom model bcoz of this model\" is incompatible with the layer: expected shape=(None, 128, 128, 1), found shape=(None, 384, 1472, 1\n",
        "# Specify the filepath to the saved model\n",
        "model_fn = \"/content/DeepD3_8F_94nm.h5\"  # Replace with the actual filepath\n",
        "\n",
        "# Load the model from the filepath\n",
        "model = load_model(model_fn, compile=False)\n",
        "\n",
        "# Load the input data or stack\n",
        "stack = Stack('DeepD3_Benchmark.tif')\n",
        "\n",
        "stack.predictWholeImage(model_fn)\n",
        "\n",
        "# Generate predictions using the loaded model\n",
        "#predictions = model.predict(stack)\n",
        "\n",
        "# Save the predictions\n",
        "#fl.save('predictions.flam', {'predictions': predictions}, compression='blosc')\n",
        "fl.save(pred_fn,\n",
        "            dict(dendrites=stack.prediction[...,0].astype(np.float32),\n",
        "                spines=stack.prediction[..., 1].astype(np.float32)),\n",
        "                compression='blosc')\n"
      ],
      "metadata": {
        "colab": {
          "base_uri": "https://localhost:8080/"
        },
        "id": "lRxO1rVEZCqE",
        "outputId": "1ddeb46a-ea6f-4f00-c6f3-518c64e5a7a3"
      },
      "execution_count": 3,
      "outputs": [
        {
          "output_type": "stream",
          "name": "stderr",
          "text": [
            "\r  0%|          | 0/71 [00:00<?, ?it/s]"
          ]
        },
        {
          "output_type": "stream",
          "name": "stdout",
          "text": [
            "1/1 [==============================] - 10s 10s/step\n"
          ]
        },
        {
          "output_type": "stream",
          "name": "stderr",
          "text": [
            "\r  1%|▏         | 1/71 [00:10<12:48, 10.98s/it]"
          ]
        },
        {
          "output_type": "stream",
          "name": "stdout",
          "text": [
            "1/1 [==============================] - 0s 23ms/step\n",
            "1/1 [==============================] - 0s 24ms/step\n"
          ]
        },
        {
          "output_type": "stream",
          "name": "stderr",
          "text": [
            "\r  4%|▍         | 3/71 [00:11<03:18,  2.91s/it]"
          ]
        },
        {
          "output_type": "stream",
          "name": "stdout",
          "text": [
            "1/1 [==============================] - 0s 24ms/step\n",
            "1/1 [==============================] - 0s 26ms/step\n"
          ]
        },
        {
          "output_type": "stream",
          "name": "stderr",
          "text": [
            "\r  7%|▋         | 5/71 [00:11<01:36,  1.46s/it]"
          ]
        },
        {
          "output_type": "stream",
          "name": "stdout",
          "text": [
            "1/1 [==============================] - 0s 23ms/step\n",
            "1/1 [==============================] - 0s 23ms/step\n"
          ]
        },
        {
          "output_type": "stream",
          "name": "stderr",
          "text": [
            "\r 10%|▉         | 7/71 [00:11<00:57,  1.12it/s]"
          ]
        },
        {
          "output_type": "stream",
          "name": "stdout",
          "text": [
            "1/1 [==============================] - 0s 24ms/step\n"
          ]
        },
        {
          "output_type": "stream",
          "name": "stderr",
          "text": [
            "\r 11%|█▏        | 8/71 [00:11<00:45,  1.40it/s]"
          ]
        },
        {
          "output_type": "stream",
          "name": "stdout",
          "text": [
            "1/1 [==============================] - 0s 23ms/step\n"
          ]
        },
        {
          "output_type": "stream",
          "name": "stderr",
          "text": [
            "\r 13%|█▎        | 9/71 [00:11<00:35,  1.76it/s]"
          ]
        },
        {
          "output_type": "stream",
          "name": "stdout",
          "text": [
            "1/1 [==============================] - 0s 24ms/step\n"
          ]
        },
        {
          "output_type": "stream",
          "name": "stderr",
          "text": [
            "\r 14%|█▍        | 10/71 [00:11<00:27,  2.21it/s]"
          ]
        },
        {
          "output_type": "stream",
          "name": "stdout",
          "text": [
            "1/1 [==============================] - 0s 23ms/step\n"
          ]
        },
        {
          "output_type": "stream",
          "name": "stderr",
          "text": [
            "\r 15%|█▌        | 11/71 [00:12<00:21,  2.75it/s]"
          ]
        },
        {
          "output_type": "stream",
          "name": "stdout",
          "text": [
            "1/1 [==============================] - 0s 23ms/step\n",
            "1/1 [==============================] - 0s 23ms/step\n"
          ]
        },
        {
          "output_type": "stream",
          "name": "stderr",
          "text": [
            "\r 18%|█▊        | 13/71 [00:12<00:14,  4.07it/s]"
          ]
        },
        {
          "output_type": "stream",
          "name": "stdout",
          "text": [
            "1/1 [==============================] - 0s 24ms/step\n"
          ]
        },
        {
          "output_type": "stream",
          "name": "stderr",
          "text": [
            "\r 20%|█▉        | 14/71 [00:12<00:12,  4.74it/s]"
          ]
        },
        {
          "output_type": "stream",
          "name": "stdout",
          "text": [
            "1/1 [==============================] - 0s 24ms/step\n",
            "1/1 [==============================] - 0s 22ms/step\n"
          ]
        },
        {
          "output_type": "stream",
          "name": "stderr",
          "text": [
            "\r 23%|██▎       | 16/71 [00:12<00:08,  6.12it/s]"
          ]
        },
        {
          "output_type": "stream",
          "name": "stdout",
          "text": [
            "1/1 [==============================] - 0s 36ms/step\n"
          ]
        },
        {
          "output_type": "stream",
          "name": "stderr",
          "text": [
            "\r 24%|██▍       | 17/71 [00:12<00:08,  6.66it/s]"
          ]
        },
        {
          "output_type": "stream",
          "name": "stdout",
          "text": [
            "1/1 [==============================] - 0s 23ms/step\n",
            "1/1 [==============================] - 0s 22ms/step\n"
          ]
        },
        {
          "output_type": "stream",
          "name": "stderr",
          "text": [
            "\r 27%|██▋       | 19/71 [00:12<00:06,  7.85it/s]"
          ]
        },
        {
          "output_type": "stream",
          "name": "stdout",
          "text": [
            "1/1 [==============================] - 0s 21ms/step\n",
            "1/1 [==============================] - 0s 22ms/step\n"
          ]
        },
        {
          "output_type": "stream",
          "name": "stderr",
          "text": [
            "\r 30%|██▉       | 21/71 [00:13<00:05,  8.74it/s]"
          ]
        },
        {
          "output_type": "stream",
          "name": "stdout",
          "text": [
            "1/1 [==============================] - 0s 23ms/step\n",
            "1/1 [==============================] - 0s 32ms/step\n"
          ]
        },
        {
          "output_type": "stream",
          "name": "stderr",
          "text": [
            "\r 32%|███▏      | 23/71 [00:13<00:05,  9.28it/s]"
          ]
        },
        {
          "output_type": "stream",
          "name": "stdout",
          "text": [
            "1/1 [==============================] - 0s 24ms/step\n",
            "1/1 [==============================] - 0s 23ms/step\n"
          ]
        },
        {
          "output_type": "stream",
          "name": "stderr",
          "text": [
            "\r 35%|███▌      | 25/71 [00:13<00:04,  9.29it/s]"
          ]
        },
        {
          "output_type": "stream",
          "name": "stdout",
          "text": [
            "1/1 [==============================] - 0s 27ms/step\n",
            "1/1 [==============================] - 0s 27ms/step\n"
          ]
        },
        {
          "output_type": "stream",
          "name": "stderr",
          "text": [
            "\r 38%|███▊      | 27/71 [00:13<00:04,  9.71it/s]"
          ]
        },
        {
          "output_type": "stream",
          "name": "stdout",
          "text": [
            "1/1 [==============================] - 0s 21ms/step\n",
            "1/1 [==============================] - 0s 27ms/step\n"
          ]
        },
        {
          "output_type": "stream",
          "name": "stderr",
          "text": [
            "\r 41%|████      | 29/71 [00:13<00:04,  9.11it/s]"
          ]
        },
        {
          "output_type": "stream",
          "name": "stdout",
          "text": [
            "1/1 [==============================] - 0s 21ms/step\n",
            "1/1 [==============================] - 0s 23ms/step\n"
          ]
        },
        {
          "output_type": "stream",
          "name": "stderr",
          "text": [
            "\r 44%|████▎     | 31/71 [00:14<00:04,  9.18it/s]"
          ]
        },
        {
          "output_type": "stream",
          "name": "stdout",
          "text": [
            "1/1 [==============================] - 0s 23ms/step\n"
          ]
        },
        {
          "output_type": "stream",
          "name": "stderr",
          "text": [
            "\r 45%|████▌     | 32/71 [00:14<00:04,  8.82it/s]"
          ]
        },
        {
          "output_type": "stream",
          "name": "stdout",
          "text": [
            "1/1 [==============================] - 0s 25ms/step\n"
          ]
        },
        {
          "output_type": "stream",
          "name": "stderr",
          "text": [
            "\r 46%|████▋     | 33/71 [00:14<00:04,  9.03it/s]"
          ]
        },
        {
          "output_type": "stream",
          "name": "stdout",
          "text": [
            "1/1 [==============================] - 0s 27ms/step\n",
            "1/1 [==============================] - 0s 21ms/step\n"
          ]
        },
        {
          "output_type": "stream",
          "name": "stderr",
          "text": [
            "\r 49%|████▉     | 35/71 [00:14<00:03,  9.08it/s]"
          ]
        },
        {
          "output_type": "stream",
          "name": "stdout",
          "text": [
            "1/1 [==============================] - 0s 26ms/step\n",
            "1/1 [==============================] - 0s 22ms/step\n"
          ]
        },
        {
          "output_type": "stream",
          "name": "stderr",
          "text": [
            "\r 52%|█████▏    | 37/71 [00:14<00:03,  9.41it/s]"
          ]
        },
        {
          "output_type": "stream",
          "name": "stdout",
          "text": [
            "1/1 [==============================] - 0s 22ms/step\n"
          ]
        },
        {
          "output_type": "stream",
          "name": "stderr",
          "text": [
            "\r 54%|█████▎    | 38/71 [00:14<00:03,  9.14it/s]"
          ]
        },
        {
          "output_type": "stream",
          "name": "stdout",
          "text": [
            "1/1 [==============================] - 0s 23ms/step\n"
          ]
        },
        {
          "output_type": "stream",
          "name": "stderr",
          "text": [
            "\r 55%|█████▍    | 39/71 [00:14<00:03,  9.31it/s]"
          ]
        },
        {
          "output_type": "stream",
          "name": "stdout",
          "text": [
            "1/1 [==============================] - 0s 24ms/step\n"
          ]
        },
        {
          "output_type": "stream",
          "name": "stderr",
          "text": [
            "\r 56%|█████▋    | 40/71 [00:15<00:03,  9.43it/s]"
          ]
        },
        {
          "output_type": "stream",
          "name": "stdout",
          "text": [
            "1/1 [==============================] - 0s 23ms/step\n"
          ]
        },
        {
          "output_type": "stream",
          "name": "stderr",
          "text": [
            "\r 58%|█████▊    | 41/71 [00:15<00:03,  9.41it/s]"
          ]
        },
        {
          "output_type": "stream",
          "name": "stdout",
          "text": [
            "1/1 [==============================] - 0s 22ms/step\n"
          ]
        },
        {
          "output_type": "stream",
          "name": "stderr",
          "text": [
            "\r 59%|█████▉    | 42/71 [00:15<00:03,  9.02it/s]"
          ]
        },
        {
          "output_type": "stream",
          "name": "stdout",
          "text": [
            "1/1 [==============================] - 0s 23ms/step\n"
          ]
        },
        {
          "output_type": "stream",
          "name": "stderr",
          "text": [
            "\r 61%|██████    | 43/71 [00:15<00:03,  8.78it/s]"
          ]
        },
        {
          "output_type": "stream",
          "name": "stdout",
          "text": [
            "1/1 [==============================] - 0s 23ms/step\n"
          ]
        },
        {
          "output_type": "stream",
          "name": "stderr",
          "text": [
            "\r 62%|██████▏   | 44/71 [00:15<00:02,  9.08it/s]"
          ]
        },
        {
          "output_type": "stream",
          "name": "stdout",
          "text": [
            "1/1 [==============================] - 0s 22ms/step\n",
            "1/1 [==============================] - 0s 31ms/step\n"
          ]
        },
        {
          "output_type": "stream",
          "name": "stderr",
          "text": [
            "\r 65%|██████▍   | 46/71 [00:15<00:02,  9.43it/s]"
          ]
        },
        {
          "output_type": "stream",
          "name": "stdout",
          "text": [
            "1/1 [==============================] - 0s 22ms/step\n",
            "1/1 [==============================] - 0s 24ms/step\n"
          ]
        },
        {
          "output_type": "stream",
          "name": "stderr",
          "text": [
            "\r 68%|██████▊   | 48/71 [00:15<00:02,  9.72it/s]"
          ]
        },
        {
          "output_type": "stream",
          "name": "stdout",
          "text": [
            "1/1 [==============================] - 0s 22ms/step\n"
          ]
        },
        {
          "output_type": "stream",
          "name": "stderr",
          "text": [
            "\r 69%|██████▉   | 49/71 [00:16<00:02,  9.65it/s]"
          ]
        },
        {
          "output_type": "stream",
          "name": "stdout",
          "text": [
            "1/1 [==============================] - 0s 25ms/step\n"
          ]
        },
        {
          "output_type": "stream",
          "name": "stderr",
          "text": [
            "\r 70%|███████   | 50/71 [00:16<00:02,  9.62it/s]"
          ]
        },
        {
          "output_type": "stream",
          "name": "stdout",
          "text": [
            "1/1 [==============================] - 0s 22ms/step\n"
          ]
        },
        {
          "output_type": "stream",
          "name": "stderr",
          "text": [
            "\r 72%|███████▏  | 51/71 [00:16<00:02,  9.71it/s]"
          ]
        },
        {
          "output_type": "stream",
          "name": "stdout",
          "text": [
            "1/1 [==============================] - 0s 21ms/step\n",
            "1/1 [==============================] - 0s 22ms/step\n"
          ]
        },
        {
          "output_type": "stream",
          "name": "stderr",
          "text": [
            "\r 75%|███████▍  | 53/71 [00:16<00:01,  9.91it/s]"
          ]
        },
        {
          "output_type": "stream",
          "name": "stdout",
          "text": [
            "1/1 [==============================] - 0s 21ms/step\n",
            "1/1 [==============================] - 0s 26ms/step\n"
          ]
        },
        {
          "output_type": "stream",
          "name": "stderr",
          "text": [
            "\r 77%|███████▋  | 55/71 [00:16<00:01,  9.97it/s]"
          ]
        },
        {
          "output_type": "stream",
          "name": "stdout",
          "text": [
            "1/1 [==============================] - 0s 22ms/step\n"
          ]
        },
        {
          "output_type": "stream",
          "name": "stderr",
          "text": [
            "\r 79%|███████▉  | 56/71 [00:16<00:01,  9.97it/s]"
          ]
        },
        {
          "output_type": "stream",
          "name": "stdout",
          "text": [
            "1/1 [==============================] - 0s 23ms/step\n"
          ]
        },
        {
          "output_type": "stream",
          "name": "stderr",
          "text": [
            "\r 80%|████████  | 57/71 [00:16<00:01,  9.95it/s]"
          ]
        },
        {
          "output_type": "stream",
          "name": "stdout",
          "text": [
            "1/1 [==============================] - 0s 27ms/step\n"
          ]
        },
        {
          "output_type": "stream",
          "name": "stderr",
          "text": [
            "\r 82%|████████▏ | 58/71 [00:16<00:01,  9.32it/s]"
          ]
        },
        {
          "output_type": "stream",
          "name": "stdout",
          "text": [
            "1/1 [==============================] - 0s 30ms/step\n"
          ]
        },
        {
          "output_type": "stream",
          "name": "stderr",
          "text": [
            "\r 83%|████████▎ | 59/71 [00:17<00:01,  8.85it/s]"
          ]
        },
        {
          "output_type": "stream",
          "name": "stdout",
          "text": [
            "1/1 [==============================] - 0s 22ms/step\n"
          ]
        },
        {
          "output_type": "stream",
          "name": "stderr",
          "text": [
            "\r 85%|████████▍ | 60/71 [00:17<00:01,  9.04it/s]"
          ]
        },
        {
          "output_type": "stream",
          "name": "stdout",
          "text": [
            "1/1 [==============================] - 0s 23ms/step\n"
          ]
        },
        {
          "output_type": "stream",
          "name": "stderr",
          "text": [
            "\r 86%|████████▌ | 61/71 [00:17<00:01,  9.20it/s]"
          ]
        },
        {
          "output_type": "stream",
          "name": "stdout",
          "text": [
            "1/1 [==============================] - 0s 23ms/step\n"
          ]
        },
        {
          "output_type": "stream",
          "name": "stderr",
          "text": [
            "\r 87%|████████▋ | 62/71 [00:17<00:01,  8.90it/s]"
          ]
        },
        {
          "output_type": "stream",
          "name": "stdout",
          "text": [
            "1/1 [==============================] - 0s 27ms/step\n"
          ]
        },
        {
          "output_type": "stream",
          "name": "stderr",
          "text": [
            "\r 89%|████████▊ | 63/71 [00:17<00:00,  8.98it/s]"
          ]
        },
        {
          "output_type": "stream",
          "name": "stdout",
          "text": [
            "1/1 [==============================] - 0s 21ms/step\n"
          ]
        },
        {
          "output_type": "stream",
          "name": "stderr",
          "text": [
            "\r 90%|█████████ | 64/71 [00:17<00:00,  9.17it/s]"
          ]
        },
        {
          "output_type": "stream",
          "name": "stdout",
          "text": [
            "1/1 [==============================] - 0s 24ms/step\n"
          ]
        },
        {
          "output_type": "stream",
          "name": "stderr",
          "text": [
            "\r 92%|█████████▏| 65/71 [00:17<00:00,  8.80it/s]"
          ]
        },
        {
          "output_type": "stream",
          "name": "stdout",
          "text": [
            "1/1 [==============================] - 0s 22ms/step\n"
          ]
        },
        {
          "output_type": "stream",
          "name": "stderr",
          "text": [
            "\r 93%|█████████▎| 66/71 [00:17<00:00,  9.03it/s]"
          ]
        },
        {
          "output_type": "stream",
          "name": "stdout",
          "text": [
            "1/1 [==============================] - 0s 22ms/step\n"
          ]
        },
        {
          "output_type": "stream",
          "name": "stderr",
          "text": [
            "\r 94%|█████████▍| 67/71 [00:17<00:00,  8.57it/s]"
          ]
        },
        {
          "output_type": "stream",
          "name": "stdout",
          "text": [
            "1/1 [==============================] - 0s 23ms/step\n"
          ]
        },
        {
          "output_type": "stream",
          "name": "stderr",
          "text": [
            "\r 96%|█████████▌| 68/71 [00:18<00:00,  8.84it/s]"
          ]
        },
        {
          "output_type": "stream",
          "name": "stdout",
          "text": [
            "1/1 [==============================] - 0s 23ms/step\n"
          ]
        },
        {
          "output_type": "stream",
          "name": "stderr",
          "text": [
            "\r 97%|█████████▋| 69/71 [00:18<00:00,  9.07it/s]"
          ]
        },
        {
          "output_type": "stream",
          "name": "stdout",
          "text": [
            "1/1 [==============================] - 0s 22ms/step\n"
          ]
        },
        {
          "output_type": "stream",
          "name": "stderr",
          "text": [
            "\r 99%|█████████▊| 70/71 [00:18<00:00,  9.16it/s]"
          ]
        },
        {
          "output_type": "stream",
          "name": "stdout",
          "text": [
            "1/1 [==============================] - 0s 22ms/step\n"
          ]
        },
        {
          "output_type": "stream",
          "name": "stderr",
          "text": [
            "100%|██████████| 71/71 [00:18<00:00,  3.86it/s]\n"
          ]
        }
      ]
    },
    {
      "cell_type": "code",
      "source": [
        "import numpy as np\n",
        "from PyQt5.QtCore import QObject, pyqtSignal\n",
        "import imageio as io\n",
        "import flammkuchen as fl\n",
        "import os\n",
        "import cv2\n",
        "from skimage.measure import find_contours, moments\n",
        "from skimage.feature import peak_local_max\n",
        "from skimage.segmentation import watershed\n",
        "from skimage.draw import disk\n",
        "from tqdm import tqdm\n",
        "import cc3d\n",
        "from numba import njit\n",
        "from deepd3.core.dendrite import sphere\n",
        "from scipy.ndimage import grey_closing, binary_dilation, label as labelImage, distance_transform_edt\n"
      ],
      "metadata": {
        "id": "L4W5aYKD8E2v"
      },
      "execution_count": 4,
      "outputs": []
    },
    {
      "cell_type": "code",
      "source": [
        "def _get_sorted_seeds(stack, threshold=0.8):\n",
        "    \"\"\"Sort seeds according to their highest prediction value\n",
        "\n",
        "    Args:\n",
        "        stack (numpy ndarray): The stack with the predictions\n",
        "        threshold (float, optional): The threshold for being a seed pixel. Defaults to 0.8.\n",
        "\n",
        "    Returns:\n",
        "        numpy.ndarray: seed coordinates sorted by prediction value\n",
        "    \"\"\"\n",
        "    coords = np.nonzero(stack>=threshold)\n",
        "    intensities = stack[coords]\n",
        "    # Highest peak first\n",
        "    idx_maxsort = np.argsort(-intensities)\n",
        "    coords = np.transpose(coords)[idx_maxsort]\n",
        "    return coords"
      ],
      "metadata": {
        "id": "mn4OhjIF94er"
      },
      "execution_count": 5,
      "outputs": []
    },
    {
      "cell_type": "code",
      "source": [
        "def _distance_to_seed(seed, pos, delta_xy = 1, delta_z = 1):\n",
        "    \"\"\"Computes the euclidean distance between seed pixel and current position `pos`\n",
        "\n",
        "    Args:\n",
        "        seed (tuple): seed pixel coordinates (x,y,z)\n",
        "        pos (tuple): current position coordinates (x,y,z)\n",
        "\n",
        "    Returns:\n",
        "        float: euclidean distance between seed and current position\n",
        "    \"\"\"\n",
        "    a = (seed[0] * delta_xy - pos[0] * delta_xy)**2\n",
        "    b = (seed[1] * delta_xy - pos[1] * delta_xy)**2\n",
        "    c = (seed[2] * delta_z  - pos[2] * delta_z)**2\n",
        "\n",
        "    return np.sqrt(a+b+c)"
      ],
      "metadata": {
        "id": "XwUo2aQE-Pro"
      },
      "execution_count": 6,
      "outputs": []
    },
    {
      "cell_type": "code",
      "source": [
        "def connected_components_3d(prediction, seeds, delta, threshold, distance, dimensions):\n",
        "    \"\"\"Computes connected components in 3D using various constraints.\n",
        "    Each ROI is grown from a seed pixel. From there, in a 26-neighbour fashion more\n",
        "    pixels are added iteratively. Each additional pixel needs to fulfill the following requirements:\n",
        "\n",
        "    * The new pixel's intensity needs to be in a given range relative to the seed intensity (`delta`)\n",
        "    * The new pixel's intensity needs to be above a given `threshold`\n",
        "    * The new pixel's position needs to be in the vicinity (`distance`) of the seed pixel\n",
        "\n",
        "    Each pixel can only be assigned to one ROI once.\n",
        "\n",
        "    Args:\n",
        "        prediction (numpy.ndarray): prediction from deep neural network\n",
        "        seeds (numpy.ndarray): seed pixels\n",
        "        delta (float): difference to seed pixel intensity\n",
        "        threshold (float): threshold for pixel intensity\n",
        "        distance (int or float): maximum euclidean distance in microns to seed pixel\n",
        "        dimensions (dict(float, float)): xy and z pitch in microns\n",
        "\n",
        "    Returns:\n",
        "        tuple(labels, N): the labelled stack and the number of found ROIs\n",
        "    \"\"\"\n",
        "    # Initialize everything as background\n",
        "    im = np.zeros(prediction.shape, dtype=np.uint16)\n",
        "    L = 1 # Start with label 1\n",
        "\n",
        "    delta_xy = dimensions[0]\n",
        "    delta_z  = dimensions[1]\n",
        "\n",
        "    # Iterate through seed pixels\n",
        "    for i in range(seeds.shape[0]):\n",
        "        # Retrieve location and seed intensity\n",
        "        x0, y0, z0 = seeds[i]\n",
        "        t = prediction[x0, y0, z0]\n",
        "\n",
        "        # Seed pixel has been assigned to a label already, skip\n",
        "        if im[x0, y0, z0]:\n",
        "            continue\n",
        "\n",
        "        # Start with the floodfilling\n",
        "        neighbours = [(x0, y0, z0)]\n",
        "\n",
        "        while len(neighbours):\n",
        "            # Look at next pixel\n",
        "            x, y, z = neighbours.pop()\n",
        "\n",
        "            # Current pixel not in stack\n",
        "            if x >= im.shape[0] or x < 0:\n",
        "                continue\n",
        "\n",
        "            if y >= im.shape[1] or y < 0:\n",
        "                continue\n",
        "\n",
        "            if z >= im.shape[2] or z < 0:\n",
        "                continue\n",
        "\n",
        "            # Intensity at given point\n",
        "            p0 = prediction[x, y, z]\n",
        "\n",
        "            # A good pixel should be\n",
        "            # - similar to the seed px (delta)\n",
        "            # - intensity above a given threshold\n",
        "            # - in label image it is still a background px\n",
        "            # - distance to seed is lower than distance\n",
        "            if abs(p0 - t) <= delta * t and \\\n",
        "                 p0 > threshold and \\\n",
        "                 im[x, y, z] == 0 and \\\n",
        "                 _distance_to_seed((x0, y0, z0), (x,y,z), delta_xy, delta_z) < distance:\n",
        "\n",
        "                # Assign pixel current label\n",
        "                im[x,y,z] = L\n",
        "\n",
        "                # Look at neighbours\n",
        "                neighbours.extend(_neighbours(x,y,z))\n",
        "\n",
        "        # Finished with this label\n",
        "        L += 1\n",
        "\n",
        "    return im, L-1"
      ],
      "metadata": {
        "id": "btUmx4YM-IvC"
      },
      "execution_count": 7,
      "outputs": []
    },
    {
      "cell_type": "code",
      "source": [
        "class ROI3D_Creator(QObject):\n",
        "    zSignal = pyqtSignal(int, int)\n",
        "    log = pyqtSignal(str)\n",
        "\n",
        "    def __init__(self, dendrite_prediction, spine_prediction, mode='floodfill', areaThreshold=0.25,\n",
        "        roundness_threshold=0.7, seedDelta=0.1, distanceToSeed=10, dimensions=dict(xy=0.094, z=0.5)):\n",
        "        \"\"\"3D ROI Creator.\n",
        "\n",
        "        Given the arguments, 3D ROIs are built dynamically from dendrite and spine prediction.\n",
        "\n",
        "        Args:\n",
        "            dendrite_prediction (numpy.ndarray): dendrite prediction probability stack\n",
        "            spine_prediction (numpy.ndarray): spine prediction probability stack\n",
        "            mode (str, optional): Mode for building 3D rois (floodfill or connected components). Defaults to 'floodfill'.\n",
        "            areaThreshold (float, optional): Area threshold for floodfilling and connected components. Defaults to 0.25.\n",
        "            peakThreshold (float, optional): Peak threshold for finding seed points. Defaults to 0.8.\n",
        "            seedDelta (float, optional): Difference to seed in terms of relative probability. Defaults to 0.1.\n",
        "            distanceToSeed (int, optional): Distance to seed px in micrometer. Defaults to 10.\n",
        "            dimensions (dict, optional): Dimensions in xy and z in in micrometer. Defaults to dict(xy=0.094, z=0.5).\n",
        "        \"\"\"\n",
        "\n",
        "        super().__init__()\n",
        "        self.dendrite_prediction = dendrite_prediction\n",
        "        self.spine_prediction = spine_prediction\n",
        "        self.mode = mode # floodfill or thresholded\n",
        "        self.areaThreshold = areaThreshold\n",
        "        self.roundness_threshold = roundness_threshold\n",
        "        self.seedDelta = seedDelta\n",
        "        self.distanceToSeed = distanceToSeed\n",
        "        self.dimensions = dimensions\n",
        "        self.roi_map = np.zeros_like(spine_prediction, dtype=np.int32)\n",
        "        self.rois = {}\n",
        "\n",
        "        self.computeContours = True\n",
        "\n",
        "    def create(self, minPx, maxPx, minPlanes, applyWatershed=False, dilation=0):\n",
        "        \"\"\"Create 3D ROIs\n",
        "\n",
        "        Args:\n",
        "            minPx (int): only retain 3D ROIs containing at least `minPx` pixels\n",
        "            maxPx (int): only retain 3D ROIs containing at most `maxPx` pixels\n",
        "            minPlanes (int): only retain 3D ROIs spanning at least `minPlanes` planes\n",
        "            applyWatershed (bool, optional): Apply watershed algorithm to divide ROIs. Defaults to False.\n",
        "            dilation (int, optional): Dilate dendrite probability map. Defaults to 0.\n",
        "\n",
        "        Returns:\n",
        "            int: number of retained ROIs\n",
        "        \"\"\"\n",
        "        ROI_id = 0\n",
        "\n",
        "        # Find raw labels\n",
        "        self.log.emit(\"Create labels\")\n",
        "\n",
        "        if self.mode == 'floodfill':\n",
        "            # Find all potential seed pixels that are at least at peakThreshold\n",
        "            seeds = _get_sorted_seeds(self.spine_prediction, self.peakThreshold)\n",
        "\n",
        "            # Generate all labels using custom 3D connected components\n",
        "            labels, N = connected_components_3d(self.spine_prediction,\n",
        "                seeds,\n",
        "                self.seedDelta,\n",
        "                self.areaThreshold,\n",
        "                self.distanceToSeed,\n",
        "                (self.dimensions['xy'], self.dimensions['z']))\n",
        "\n",
        "        # else:\n",
        "        #     thresholded_im = self.spine_prediction > self.areaThreshold\n",
        "\n",
        "        #     if dilation > 0:\n",
        "        #         thresholded_im = binary_dilation(thresholded_im, np.ones((3,3,3)), iterations=dilation)\n",
        "\n",
        "        #     labels, N = cc3d.connected_components(thresholded_im, return_N=True)\n",
        "\n",
        "        # if applyWatershed:\n",
        "        #     D = distance_transform_edt(labels > 0)\n",
        "        #     # Seed generation\n",
        "        #     localMax = peak_local_max(D, indices=False, min_distance=0, footprint=np.ones((3,3,3)), exclude_border=1)\n",
        "\n",
        "        #     markers = labelImage(localMax, structure=np.ones((3,3,3)))[0]\n",
        "\n",
        "        #                                 ### data # seeds   # eliminate noise\n",
        "        #     labels = watershed(-D, markers, mask=labels > 0)\n",
        "        \"\"\"\n",
        "    Create ROIs from the spine prediction.\n",
        "\n",
        "    Args:\n",
        "        spine_prediction (numpy.ndarray): The spine prediction probability stack.\n",
        "        area_threshold (float): The area threshold.\n",
        "        roundness_threshold (float): The roundness threshold.\n",
        "\n",
        "    Returns:\n",
        "        int: The number of ROIs.\n",
        "    \"\"\"\n",
        "\n",
        "        # labels = shape_based_ROI(self.spine_prediction, self.areaThreshold, self.roundness_threshold)\n",
        "\n",
        "\n",
        "        self.log.emit(\"Compute meta data\")\n",
        "        # Compute raw centroids, check size and plane span of ROIs\n",
        "        cs, px, planes = centroids3D_from_labels(labels)\n",
        "        planes = planes.sum(1)\n",
        "\n",
        "\n",
        "        # self.log.emit(\"Clean ROIs\")\n",
        "        # # Find ROIs that do not match the criteria\n",
        "        # criteria_mismatch = (planes < minPlanes) | (px < minPx) | (px > maxPx)\n",
        "        # rois_to_delete = np.where(criteria_mismatch)[0]\n",
        "\n",
        "        # self.log.emit(f\"Removing {len(rois_to_delete)} ROIs...\")\n",
        "\n",
        "        # self.log.emit(\"Clean labels\")\n",
        "        # # Clean all labels\n",
        "        # labels = cleanLabels(labels, rois_to_delete)\n",
        "        # labels = reid(labels)\n",
        "\n",
        "        # # Re-compute information\n",
        "        # cs, px, planes = centroids3D_from_labels(labels)\n",
        "        # planes = planes.sum(1)\n",
        "\n",
        "        # # Compute the centroids again after cleaning the labels\n",
        "        # centroids = cs/px[:, None]\n",
        "\n",
        "        # self.roi_centroids = centroids\n",
        "\n",
        "        # if self.computeContours:\n",
        "\n",
        "        #     self.log.emit(\"Compute contours and create plane-wise slices\")\n",
        "        #     for z in tqdm(range(self.spine_prediction.shape[0])):\n",
        "        #         self.rois[z] = []\n",
        "        #         labels_plane = labels[z]\n",
        "\n",
        "        #         # Compute contours...\n",
        "        #         for ROI_id in np.unique(labels_plane):\n",
        "        #             if ROI_id == 0:\n",
        "        #                 continue\n",
        "\n",
        "        #             c = find_contours(labels_plane==ROI_id)\n",
        "        #             self.rois[z].append({\n",
        "        #                 'ROI_id': ROI_id,\n",
        "        #                 'contour': c[0],\n",
        "        #                 'centroid': np.asarray(centroids[ROI_id])\n",
        "        #             })\n",
        "\n",
        "        #         # Talk to progress bar\n",
        "        #         self.zSignal.emit(z, self.spine_prediction.shape[0])\n",
        "\n",
        "        self.roi_map = labels\n",
        "        self.log.emit(\"Done.\")\n",
        "        # return np.max(labels)\n",
        "        return labels"
      ],
      "metadata": {
        "id": "50a_4AI070HY"
      },
      "execution_count": 22,
      "outputs": []
    },
    {
      "cell_type": "code",
      "source": [
        "def _neighbours(x,y,z):\n",
        "    \"\"\"Generates 26-connected neighbours\n",
        "\n",
        "    Args:\n",
        "        x (int): x-value\n",
        "        y (int): y-value\n",
        "        z (int): z-value\n",
        "\n",
        "    Returns:\n",
        "        list: neighbour indices of a given point (x,y,z)\n",
        "    \"\"\"\n",
        "    look = []\n",
        "\n",
        "    for i in range(x-1, x+2):\n",
        "        for j in range(y-1, y+2):\n",
        "            for k in range(z-1, z+2):\n",
        "                if not (i == x and j == y and k == z):\n",
        "                    look.append((i,j,k))\n",
        "\n",
        "    return look"
      ],
      "metadata": {
        "id": "8LCb7gwl-Wuo"
      },
      "execution_count": 9,
      "outputs": []
    },
    {
      "cell_type": "code",
      "source": [
        "def cleanLabels(labels, rois_to_delete):\n",
        "    \"\"\"Cleans labels from label stack. Set labels in rois_to_delete to background.\n",
        "\n",
        "    Args:\n",
        "        labels ([type]): [description]\n",
        "        rois_to_delete ([type]): [description]\n",
        "\n",
        "    Returns:\n",
        "        [type]: [description]\n",
        "    \"\"\"\n",
        "    clean_labels = np.zeros(labels.shape, dtype=np.int32)\n",
        "\n",
        "    # Iterate through stack\n",
        "    for i in range(labels.shape[0]):\n",
        "        for j in range(labels.shape[1]):\n",
        "            for k in range(labels.shape[2]):\n",
        "                l = labels[i,j,k]\n",
        "\n",
        "                # If it is background label, go on\n",
        "                if l == 0:\n",
        "                    continue\n",
        "\n",
        "                # Not background label, check if label should remain\n",
        "                if (rois_to_delete==l).sum() > 0:\n",
        "                    clean_labels[i,j,k] = 0\n",
        "\n",
        "                else:\n",
        "                    clean_labels[i,j,k] = l\n",
        "\n",
        "    return clean_labels"
      ],
      "metadata": {
        "id": "I8JTveD0BUs9"
      },
      "execution_count": 10,
      "outputs": []
    },
    {
      "cell_type": "code",
      "source": [
        "def reid(labels):\n",
        "    \"\"\"Relabel an existing label map to ensure continuous label ids\n",
        "\n",
        "    Args:\n",
        "        labels (numpy.ndarray): original label map\n",
        "\n",
        "    Returns:\n",
        "        numpy.ndarray: re-computed label map\n",
        "    \"\"\"\n",
        "    ls = np.unique(labels)\n",
        "\n",
        "    new_labels = np.zeros(labels.shape, dtype=np.int32)\n",
        "\n",
        "    for i in range(labels.shape[0]):\n",
        "        for j in range(labels.shape[1]):\n",
        "            for k in range(labels.shape[2]):\n",
        "                l = labels[i,j,k]\n",
        "\n",
        "                if l == 0:\n",
        "                    continue\n",
        "\n",
        "                else:\n",
        "                    new_labels[i,j,k] = np.argmax(ls==l)\n",
        "\n",
        "    return new_labels"
      ],
      "metadata": {
        "id": "PKA7hYsCBcZa"
      },
      "execution_count": 11,
      "outputs": []
    },
    {
      "cell_type": "code",
      "source": [
        "def centroids3D_from_labels(labels):\n",
        "    \"\"\"Computes the centroid for each label in an 3D stack containing image labels.\n",
        "    0 is background, 1...N are foreground labels.\n",
        "    This function uses image moments to compute the centroid.\n",
        "\n",
        "    Args:\n",
        "        labels (numpy.ndarray): ROI labeled image (0...N)\n",
        "\n",
        "    Returns:\n",
        "        tuple(numpy.ndarray, numpy.ndarray, numpy.ndarray):\n",
        "            Returns first-order moments, zero-order moments and covered planes\n",
        "    \"\"\"\n",
        "    N = np.max(labels)\n",
        "    # First-order moments for z, y, and x\n",
        "    cs = np.zeros((N+1, 3), dtype=np.float32)\n",
        "    # Zero-order moment (area/mass of label)\n",
        "    px = np.zeros(N+1, dtype=np.float32)\n",
        "    # Coverage of planes (ROIs x z-planes)\n",
        "    planes = np.zeros((N+1, labels.shape[0]), dtype=np.int32)\n",
        "\n",
        "    # Fast for-loops using numba\n",
        "    for i in range(labels.shape[0]):\n",
        "        for j in range(labels.shape[1]):\n",
        "            for k in range(labels.shape[2]):\n",
        "                l = labels[i,j,k]\n",
        "                cs[l, 0] += i # M 1,0,0\n",
        "                cs[l, 1] += j # M 0,1,0\n",
        "                cs[l, 2] += k # M 0,0,1\n",
        "                px[l] += 1    # M 0,0,0\n",
        "                planes[l,i] = 1 # plane coverage\n",
        "\n",
        "    return cs, px, planes"
      ],
      "metadata": {
        "id": "KB9yeylIBn4E"
      },
      "execution_count": 12,
      "outputs": []
    },
    {
      "cell_type": "code",
      "source": [
        "# import numpy as np\n",
        "# from skimage.morphology import binary_dilation\n",
        "# from skimage.measure import regionprops\n",
        "# from skimage.segmentation import active_contour\n",
        "\n",
        "\n",
        "# def custom_roi_algo_with_active_contour(spine_prediction, minPx, maxPx, minPlanes):\n",
        "#     \"\"\"Custom ROI algorithm for Biomedical spine detection 3D images using active contour.\n",
        "\n",
        "#     Args:\n",
        "#         spine_prediction (numpy.ndarray): spine prediction probability stack\n",
        "#         minPx (int): only retain 3D ROIs containing at least `minPx` pixels\n",
        "#         maxPx (int): only retain 3D ROIs containing at most `maxPx` pixels\n",
        "#         minPlanes (int): only retain 3D ROIs spanning at least `minPlanes` planes\n",
        "\n",
        "#     Returns:\n",
        "#         dict: dictionary of ROIs, where each ROI is a dictionary with the following keys:\n",
        "#             'ROI_id': unique ROI identifier\n",
        "#             'centroid': ROI centroid\n",
        "#             'area': ROI area\n",
        "#             'plane_span': number of planes spanned by the ROI\n",
        "#             'contour': final contour\n",
        "#     \"\"\"\n",
        "\n",
        "#     rois = {}\n",
        "#     spine_prediction = spine_prediction.astype(np.uint8)\n",
        "\n",
        "#     # Find all connected components\n",
        "#     components = np.unique(spine_prediction > 1)\n",
        "\n",
        "#     # Iterate over each connected component\n",
        "#     for component_id in components:\n",
        "#         if component_id == 0:\n",
        "#             continue\n",
        "\n",
        "#         # Get the properties of the connected component\n",
        "#         props = regionprops(spine_prediction == component_id)[0]\n",
        "\n",
        "#         # Check if the connected component meets the criteria\n",
        "#         if props.area < minPx or props.area > maxPx or props.number_of_objects < minPlanes:\n",
        "#             continue\n",
        "\n",
        "#         # Initialize the active contour\n",
        "#         snake = active_contour(spine_prediction == component_id, props.centroid, alpha=0.01, beta=0.01, gamma=0.001)\n",
        "\n",
        "#         # Run the active contour algorithm\n",
        "#         snake.run(100)\n",
        "\n",
        "#         # Get the final contour\n",
        "#         final_contour = snake.get_snake_object().astype(np.int32)\n",
        "\n",
        "#         # Add the final contour to the ROIs dictionary\n",
        "#         rois[component_id] = {\n",
        "#             'ROI_id': component_id,\n",
        "#             'centroid': props.centroid,\n",
        "#             'area': props.area,\n",
        "#             'plane_span': props.number_of_objects,\n",
        "#             'contour': final_contour\n",
        "#         }\n",
        "\n",
        "#     return rois\n"
      ],
      "metadata": {
        "id": "Jgwq80eG2y7_"
      },
      "execution_count": null,
      "outputs": []
    },
    {
      "cell_type": "code",
      "source": [
        "# rois = custom_roi_algo_with_active_contour(stack.prediction[..., 1], 1,1390,3)\n",
        "# print(rois)"
      ],
      "metadata": {
        "colab": {
          "base_uri": "https://localhost:8080/"
        },
        "id": "Zm-pNqAU7JMt",
        "outputId": "3a4b59d4-6838-436f-cb0c-936c79cc3a8c"
      },
      "execution_count": null,
      "outputs": [
        {
          "output_type": "stream",
          "name": "stdout",
          "text": [
            "{}\n"
          ]
        }
      ]
    },
    {
      "cell_type": "code",
      "source": [
        "def calculate_shape_features(probability_map):\n",
        "    \"\"\"\n",
        "    Calculate shape features for each pixel in the probability map.\n",
        "\n",
        "    Args:\n",
        "        probability_map (numpy.ndarray): The probability map.\n",
        "\n",
        "    Returns:\n",
        "        numpy.ndarray: The shape features for each pixel.\n",
        "    \"\"\"\n",
        "\n",
        "    features = np.zeros((probability_map.shape[0], probability_map.shape[1], 2))\n",
        "    for z in range(probability_map.shape[0]):\n",
        "        for x in range(probability_map.shape[1]):\n",
        "            if np.any(probability_map[z, x] == 0):\n",
        "                continue\n",
        "            features[z, x, 0] = np.sum(probability_map[z, x])\n",
        "            features[z, x, 1] = np.sum(probability_map[z, x] * (4 * np.pi - np.sum(probability_map[z, x] * np.roll(probability_map[z, x], 1, axis=0)))) / (np.sum(probability_map[z, x]) ** 2)\n",
        "    return features"
      ],
      "metadata": {
        "id": "kxiTIvEqTTUa"
      },
      "execution_count": 13,
      "outputs": []
    },
    {
      "cell_type": "code",
      "source": [
        "def shape_based_ROI(probability_map, area_threshold, roundness_threshold):\n",
        "    \"\"\"\n",
        "    Create ROIs using shape analysis.\n",
        "\n",
        "    Args:\n",
        "        probability_map (numpy.ndarray): The probability map.\n",
        "        area_threshold (float): The area threshold.\n",
        "        roundness_threshold (float): The roundness threshold.\n",
        "\n",
        "    Returns:\n",
        "        numpy.ndarray: The labels of the ROIs.\n",
        "    \"\"\"\n",
        "\n",
        "    features = calculate_shape_features(probability_map)\n",
        "    areas = features[:, 0]\n",
        "    roundness = features[:, 1]\n",
        "    labels = np.where((areas > area_threshold) & (roundness > roundness_threshold))[0]\n",
        "    return labels"
      ],
      "metadata": {
        "id": "mqnizbh1RMUm"
      },
      "execution_count": 14,
      "outputs": []
    },
    {
      "cell_type": "code",
      "source": [
        "\n",
        "def create_ROIs(spine_prediction, area_threshold, roundness_threshold):\n",
        "    \"\"\"\n",
        "    Create ROIs from the spine prediction.\n",
        "\n",
        "    Args:\n",
        "        spine_prediction (numpy.ndarray): The spine prediction probability stack.\n",
        "        area_threshold (float): The area threshold.\n",
        "        roundness_threshold (float): The roundness threshold.\n",
        "\n",
        "    Returns:\n",
        "        int: The number of ROIs.\n",
        "    \"\"\"\n",
        "\n",
        "    labels = shape_based_ROI(spine_prediction, area_threshold, roundness_threshold)\n",
        "    return labels"
      ],
      "metadata": {
        "id": "sPF2iz-kRRdQ"
      },
      "execution_count": 18,
      "outputs": []
    },
    {
      "cell_type": "code",
      "source": [
        "rois = create_ROIs(stack.prediction[..., 1], 0.25,0.7)\n",
        "print(rois)"
      ],
      "metadata": {
        "colab": {
          "base_uri": "https://localhost:8080/"
        },
        "id": "oxHCcdjNRczl",
        "outputId": "2bc23520-1bba-4bee-f781-6816fd5fa2a1"
      },
      "execution_count": 19,
      "outputs": [
        {
          "output_type": "stream",
          "name": "stdout",
          "text": [
            "[ 0  1  2  3  4  4  5  5  6  6  7  7  8  8  9  9 10 10 11 11 12 12 13 13\n",
            " 14 14 15 15 16 16 17 17 18 18 19 19 20 20 21 21 22 22 23 23 24 24 25 25\n",
            " 26 26 27 27 28 28 29 29 30 30 31 31 32 32 33 33 34 34 35 35 36 36 37 37\n",
            " 38 38 39 39 40 40 41 41 42 42 43 43 44 44 45 45 46 46 47 47 48 48 49 49\n",
            " 50 50 51 51 52 52 53 53 54 54 55 55 56 56 57 57 58 58 59 60 60 61 61 62\n",
            " 62 63 63 64 64 65 65 66 66 67 67 68 68 69 70]\n"
          ]
        }
      ]
    },
    {
      "cell_type": "code",
      "source": [
        "# Building 3D ROIs\n",
        "\n",
        "\n",
        "rois_fn = \"rois.blosc\"\n",
        "\n",
        "r = ROI3D_Creator(stack.prediction[..., 0],\n",
        "            stack.prediction[..., 1],\n",
        "            mode='floodfill', areaThreshold=0.25,\n",
        "        roundness_threshold=0.7, seedDelta=0.1, distanceToSeed=10, dimensions=dict(xy=0.094, z=0.5))\n",
        "\n",
        "rois_labels = r.create(1,\n",
        "            1390,\n",
        "            3)\n",
        "\n",
        "print(rois)\n",
        "# print(\"Saving ROIs...\")\n",
        "# fl.save(rois_fn,\n",
        "#                 dict(rois=r.rois, roi_map=r.roi_map),\n",
        "#                 compression='blosc')\n"
      ],
      "metadata": {
        "id": "4iI3bC45mPOm",
        "colab": {
          "base_uri": "https://localhost:8080/",
          "height": 514
        },
        "outputId": "183a8087-d10c-4411-f5d0-2febdc38ca8c"
      },
      "execution_count": 15,
      "outputs": [
        {
          "output_type": "error",
          "ename": "IndexError",
          "evalue": "ignored",
          "traceback": [
            "\u001b[0;31m---------------------------------------------------------------------------\u001b[0m",
            "\u001b[0;31mIndexError\u001b[0m                                Traceback (most recent call last)",
            "\u001b[0;32m<ipython-input-15-d74b692d7c41>\u001b[0m in \u001b[0;36m<cell line: 11>\u001b[0;34m()\u001b[0m\n\u001b[1;32m      9\u001b[0m         roundness_threshold=0.7, seedDelta=0.1, distanceToSeed=10, dimensions=dict(xy=0.094, z=0.5))\n\u001b[1;32m     10\u001b[0m \u001b[0;34m\u001b[0m\u001b[0m\n\u001b[0;32m---> 11\u001b[0;31m rois_labels = r.create(1,\n\u001b[0m\u001b[1;32m     12\u001b[0m             \u001b[0;36m1390\u001b[0m\u001b[0;34m,\u001b[0m\u001b[0;34m\u001b[0m\u001b[0;34m\u001b[0m\u001b[0m\n\u001b[1;32m     13\u001b[0m             3)\n",
            "\u001b[0;32m<ipython-input-8-63211bfda213>\u001b[0m in \u001b[0;36mcreate\u001b[0;34m(self, minPx, maxPx, minPlanes, applyWatershed, dilation)\u001b[0m\n\u001b[1;32m     98\u001b[0m         \u001b[0mself\u001b[0m\u001b[0;34m.\u001b[0m\u001b[0mlog\u001b[0m\u001b[0;34m.\u001b[0m\u001b[0memit\u001b[0m\u001b[0;34m(\u001b[0m\u001b[0;34m\"Compute meta data\"\u001b[0m\u001b[0;34m)\u001b[0m\u001b[0;34m\u001b[0m\u001b[0;34m\u001b[0m\u001b[0m\n\u001b[1;32m     99\u001b[0m         \u001b[0;31m# Compute raw centroids, check size and plane span of ROIs\u001b[0m\u001b[0;34m\u001b[0m\u001b[0;34m\u001b[0m\u001b[0m\n\u001b[0;32m--> 100\u001b[0;31m         \u001b[0mcs\u001b[0m\u001b[0;34m,\u001b[0m \u001b[0mpx\u001b[0m\u001b[0;34m,\u001b[0m \u001b[0mplanes\u001b[0m \u001b[0;34m=\u001b[0m \u001b[0mcentroids3D_from_labels\u001b[0m\u001b[0;34m(\u001b[0m\u001b[0mlabels\u001b[0m\u001b[0;34m)\u001b[0m\u001b[0;34m\u001b[0m\u001b[0;34m\u001b[0m\u001b[0m\n\u001b[0m\u001b[1;32m    101\u001b[0m         \u001b[0mplanes\u001b[0m \u001b[0;34m=\u001b[0m \u001b[0mplanes\u001b[0m\u001b[0;34m.\u001b[0m\u001b[0msum\u001b[0m\u001b[0;34m(\u001b[0m\u001b[0;36m1\u001b[0m\u001b[0;34m)\u001b[0m\u001b[0;34m\u001b[0m\u001b[0;34m\u001b[0m\u001b[0m\n\u001b[1;32m    102\u001b[0m \u001b[0;34m\u001b[0m\u001b[0m\n",
            "\u001b[0;32m<ipython-input-12-f9e98b33f274>\u001b[0m in \u001b[0;36mcentroids3D_from_labels\u001b[0;34m(labels)\u001b[0m\n\u001b[1;32m     21\u001b[0m     \u001b[0;31m# Fast for-loops using numba\u001b[0m\u001b[0;34m\u001b[0m\u001b[0;34m\u001b[0m\u001b[0m\n\u001b[1;32m     22\u001b[0m     \u001b[0;32mfor\u001b[0m \u001b[0mi\u001b[0m \u001b[0;32min\u001b[0m \u001b[0mrange\u001b[0m\u001b[0;34m(\u001b[0m\u001b[0mlabels\u001b[0m\u001b[0;34m.\u001b[0m\u001b[0mshape\u001b[0m\u001b[0;34m[\u001b[0m\u001b[0;36m0\u001b[0m\u001b[0;34m]\u001b[0m\u001b[0;34m)\u001b[0m\u001b[0;34m:\u001b[0m\u001b[0;34m\u001b[0m\u001b[0;34m\u001b[0m\u001b[0m\n\u001b[0;32m---> 23\u001b[0;31m         \u001b[0;32mfor\u001b[0m \u001b[0mj\u001b[0m \u001b[0;32min\u001b[0m \u001b[0mrange\u001b[0m\u001b[0;34m(\u001b[0m\u001b[0mlabels\u001b[0m\u001b[0;34m.\u001b[0m\u001b[0mshape\u001b[0m\u001b[0;34m[\u001b[0m\u001b[0;36m1\u001b[0m\u001b[0;34m]\u001b[0m\u001b[0;34m)\u001b[0m\u001b[0;34m:\u001b[0m\u001b[0;34m\u001b[0m\u001b[0;34m\u001b[0m\u001b[0m\n\u001b[0m\u001b[1;32m     24\u001b[0m             \u001b[0;32mfor\u001b[0m \u001b[0mk\u001b[0m \u001b[0;32min\u001b[0m \u001b[0mrange\u001b[0m\u001b[0;34m(\u001b[0m\u001b[0mlabels\u001b[0m\u001b[0;34m.\u001b[0m\u001b[0mshape\u001b[0m\u001b[0;34m[\u001b[0m\u001b[0;36m2\u001b[0m\u001b[0;34m]\u001b[0m\u001b[0;34m)\u001b[0m\u001b[0;34m:\u001b[0m\u001b[0;34m\u001b[0m\u001b[0;34m\u001b[0m\u001b[0m\n\u001b[1;32m     25\u001b[0m                 \u001b[0ml\u001b[0m \u001b[0;34m=\u001b[0m \u001b[0mlabels\u001b[0m\u001b[0;34m[\u001b[0m\u001b[0mi\u001b[0m\u001b[0;34m,\u001b[0m\u001b[0mj\u001b[0m\u001b[0;34m,\u001b[0m\u001b[0mk\u001b[0m\u001b[0;34m]\u001b[0m\u001b[0;34m\u001b[0m\u001b[0;34m\u001b[0m\u001b[0m\n",
            "\u001b[0;31mIndexError\u001b[0m: tuple index out of range"
          ]
        }
      ]
    },
    {
      "cell_type": "code",
      "source": [],
      "metadata": {
        "id": "rhVuvssXezC8"
      },
      "execution_count": null,
      "outputs": []
    }
  ]
}