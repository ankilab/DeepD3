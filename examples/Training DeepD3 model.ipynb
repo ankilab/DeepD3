{
 "cells": [
  {
   "cell_type": "code",
   "execution_count": null,
   "id": "7fccdf22",
   "metadata": {},
   "outputs": [],
   "source": [
    "# Neural network libraries\n",
    "import os\n",
    "os.environ[\"SM_FRAMEWORK\"] = \"tf.keras\"\n",
    "import tensorflow as tf\n",
    "from tensorflow.keras.optimizers import Adam\n",
    "import segmentation_models as sm\n",
    "sm.set_framework(\"tf.keras\")\n",
    "\n",
    "# Plotting\n",
    "import matplotlib.pyplot as plt\n",
    "%matplotlib inline\n",
    "\n",
    "# DeepD3 \n",
    "from deepd3.model import DeepD3_Model\n",
    "from deepd3.training.stream import DataGeneratorStream"
   ]
  },
  {
   "cell_type": "markdown",
   "id": "232bb972",
   "metadata": {},
   "source": [
    "## Load training data"
   ]
  },
  {
   "cell_type": "code",
   "execution_count": null,
   "id": "4b70a2b2",
   "metadata": {},
   "outputs": [],
   "source": [
    "TRAINING_DATA_PATH = r\"DeepD3_Training.d3set\"\n",
    "VALIDATION_DATA_PATH = r\"DeepD3_Validation.d3set\"\n",
    "\n",
    "dg_training = DataGeneratorStream(TRAINING_DATA_PATH, \n",
    "                                  batch_size=32, # Data processed at once, depends on your GPU\n",
    "                                  target_resolution=0.094, # fixed to 94 nm, can be None for mixed resolution training\n",
    "                                  min_content=50) # images need to have at least 50 segmented px\n",
    "\n",
    "dg_validation = DataGeneratorStream(VALIDATION_DATA_PATH, \n",
    "                                    batch_size=32, \n",
    "                                    target_resolution=0.094,\n",
    "                                    min_content=50, \n",
    "                                    augment=False,\n",
    "                                    shuffle=False)"
   ]
  },
  {
   "cell_type": "markdown",
   "id": "6ac109e3",
   "metadata": {},
   "source": [
    "## Visualize data"
   ]
  },
  {
   "cell_type": "markdown",
   "id": "71927db0",
   "metadata": {},
   "source": [
    "Glancing on the data to verify that settings are as expected."
   ]
  },
  {
   "cell_type": "code",
   "execution_count": null,
   "id": "a63b4a9d",
   "metadata": {},
   "outputs": [],
   "source": [
    "X, Y = dg_training[0]\n",
    "i = 0\n",
    "\n",
    "plt.figure(figsize=(12,4))\n",
    "\n",
    "plt.subplot(131)\n",
    "plt.imshow(X[i].squeeze(), cmap='gray')\n",
    "plt.colorbar()\n",
    "\n",
    "plt.subplot(132)\n",
    "plt.imshow(Y[0][i].squeeze(), cmap='gray')\n",
    "plt.colorbar()\n",
    "\n",
    "plt.subplot(133)\n",
    "plt.imshow(Y[1][i].squeeze(), cmap='gray')\n",
    "plt.colorbar()\n",
    "\n",
    "plt.tight_layout()"
   ]
  },
  {
   "cell_type": "markdown",
   "id": "d5f94b2c",
   "metadata": {},
   "source": [
    "## Creating model and set training parameters"
   ]
  },
  {
   "cell_type": "code",
   "execution_count": null,
   "id": "c9c0904a",
   "metadata": {
    "scrolled": false
   },
   "outputs": [],
   "source": [
    "# Create a naive DeepD3 model with a given base filter count (e.g. 32)\n",
    "m = DeepD3_Model(filters=32)\n",
    "\n",
    "# Set appropriate training settings\n",
    "m.compile(Adam(learning_rate=0.0005), # optimizer, good default setting, can be tuned \n",
    "          [sm.losses.dice_loss, \"mse\"], # Dice loss for dendrite, MSE for spines\n",
    "          metrics=['acc', sm.metrics.iou_score]) # Metrics for monitoring progress\n",
    "\n",
    "m.summary()"
   ]
  },
  {
   "cell_type": "markdown",
   "id": "816b5652",
   "metadata": {},
   "source": [
    "## Fitting model"
   ]
  },
  {
   "cell_type": "markdown",
   "id": "0ffe2faf",
   "metadata": {},
   "source": [
    "Loading some training callbacks, such as adjusting the learning rate across time, saving training progress and intermediate models"
   ]
  },
  {
   "cell_type": "code",
   "execution_count": null,
   "id": "ba233f13",
   "metadata": {},
   "outputs": [],
   "source": [
    "from tensorflow.keras.callbacks import ModelCheckpoint, CSVLogger, LearningRateScheduler"
   ]
  },
  {
   "cell_type": "code",
   "execution_count": null,
   "id": "19ec7aa4",
   "metadata": {},
   "outputs": [],
   "source": [
    "def schedule(epoch, lr):\n",
    "    if epoch < 15:\n",
    "        return lr\n",
    "    \n",
    "    else:\n",
    "        return lr * tf.math.exp(-0.1)"
   ]
  },
  {
   "cell_type": "markdown",
   "id": "8b454030",
   "metadata": {},
   "source": [
    "# Train your own DeepD3 model"
   ]
  },
  {
   "cell_type": "code",
   "execution_count": null,
   "id": "69b4777e",
   "metadata": {},
   "outputs": [],
   "source": [
    "EPOCHS = 30\n",
    "\n",
    "# Save best model automatically during training\n",
    "mc = ModelCheckpoint(\"DeepD3_model.h5\",\n",
    "                            save_best_only=True)\n",
    "        \n",
    "# Save metrics  \n",
    "csv = CSVLogger(\"DeepD3_model.csv\")\n",
    "\n",
    "# Adjust learning rate during training to allow for better convergence\n",
    "lrs = LearningRateScheduler(schedule)\n",
    "\n",
    "# Actually train the network\n",
    "h = m.fit(dg_training, \n",
    "        batch_size=32, \n",
    "        epochs=EPOCHS, \n",
    "        validation_data=dg_validation, \n",
    "        callbacks=[mc, csv, lrs])"
   ]
  },
  {
   "cell_type": "markdown",
   "id": "4994fd8c",
   "metadata": {},
   "source": [
    "## Save model for use in GUI or batch processing"
   ]
  },
  {
   "cell_type": "markdown",
   "id": "27df4412",
   "metadata": {},
   "source": [
    "This is for saving the neural network manually. The best model is automatically saved during training."
   ]
  },
  {
   "cell_type": "code",
   "execution_count": null,
   "id": "9532e339",
   "metadata": {},
   "outputs": [],
   "source": [
    "m.save(\"deepd3_custom_trained_model.h5\")"
   ]
  }
 ],
 "metadata": {
  "kernelspec": {
   "display_name": "Python 3.8.10 64-bit",
   "language": "python",
   "name": "python3"
  },
  "language_info": {
   "codemirror_mode": {
    "name": "ipython",
    "version": 3
   },
   "file_extension": ".py",
   "mimetype": "text/x-python",
   "name": "python",
   "nbconvert_exporter": "python",
   "pygments_lexer": "ipython3",
   "version": "3.8.10"
  },
  "vscode": {
   "interpreter": {
    "hash": "916dbcbb3f70747c44a77c7bcd40155683ae19c65e1c03b4aa3499c5328201f1"
   }
  }
 },
 "nbformat": 4,
 "nbformat_minor": 5
}
