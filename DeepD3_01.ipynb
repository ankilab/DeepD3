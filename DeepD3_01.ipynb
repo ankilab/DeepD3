{
  "cells": [
    {
      "cell_type": "code",
      "execution_count": null,
      "id": "2f5e9af7",
      "metadata": {
        "id": "2f5e9af7",
        "outputId": "c54734fa-9422-4f51-ae3f-11be78e1190c"
      },
      "outputs": [
        {
          "name": "stdout",
          "output_type": "stream",
          "text": [
            "Collecting deepd3\n",
            "  Using cached deepd3-0.1-py3-none-any.whl (47 kB)\n",
            "Collecting albumentations\n",
            "  Using cached albumentations-1.3.0-py3-none-any.whl (123 kB)\n",
            "Collecting roifile\n",
            "  Using cached roifile-2023.2.12-py3-none-any.whl (15 kB)\n",
            "Requirement already satisfied: numpy in /Users/greshma_shaji/anaconda3/lib/python3.10/site-packages (from deepd3) (1.23.5)\n",
            "Collecting flammkuchen\n",
            "  Using cached flammkuchen-1.0.2-py2.py3-none-any.whl (16 kB)\n",
            "Collecting imageio-ffmpeg\n",
            "  Using cached imageio-ffmpeg-0.4.8.tar.gz (17 kB)\n",
            "  Preparing metadata (setup.py) ... \u001b[?25ldone\n",
            "\u001b[?25hCollecting segmentation-models\n",
            "  Using cached segmentation_models-1.0.1-py3-none-any.whl (33 kB)\n",
            "Collecting pyqt5\n",
            "  Using cached PyQt5-5.15.9.tar.gz (3.2 MB)\n",
            "  Installing build dependencies ... \u001b[?25ldone\n",
            "\u001b[?25h  Getting requirements to build wheel ... \u001b[?25ldone\n",
            "\u001b[?25h  Preparing metadata (pyproject.toml) ... \u001b[?25l\\Note: you may need to restart the kernel to use updated packages.\n"
          ]
        }
      ],
      "source": [
        "%pip install deepd3"
      ]
    },
    {
      "cell_type": "code",
      "execution_count": null,
      "id": "602821a4",
      "metadata": {
        "colab": {
          "base_uri": "https://localhost:8080/"
        },
        "id": "602821a4",
        "outputId": "228aefe7-752d-487a-8843-f35d274777ad"
      },
      "outputs": [
        {
          "output_type": "stream",
          "name": "stdout",
          "text": [
            "Looking in indexes: https://pypi.org/simple, https://us-python.pkg.dev/colab-wheels/public/simple/\n",
            "Collecting segmentation_models\n",
            "  Downloading segmentation_models-1.0.1-py3-none-any.whl (33 kB)\n",
            "Collecting keras-applications<=1.0.8,>=1.0.7 (from segmentation_models)\n",
            "  Downloading Keras_Applications-1.0.8-py3-none-any.whl (50 kB)\n",
            "\u001b[2K     \u001b[90m━━━━━━━━━━━━━━━━━━━━━━━━━━━━━━━━━━━━━━━━\u001b[0m \u001b[32m50.7/50.7 kB\u001b[0m \u001b[31m7.6 MB/s\u001b[0m eta \u001b[36m0:00:00\u001b[0m\n",
            "\u001b[?25hCollecting image-classifiers==1.0.0 (from segmentation_models)\n",
            "  Downloading image_classifiers-1.0.0-py3-none-any.whl (19 kB)\n",
            "Collecting efficientnet==1.0.0 (from segmentation_models)\n",
            "  Downloading efficientnet-1.0.0-py3-none-any.whl (17 kB)\n",
            "Requirement already satisfied: scikit-image in /usr/local/lib/python3.10/dist-packages (from efficientnet==1.0.0->segmentation_models) (0.19.3)\n",
            "Requirement already satisfied: numpy>=1.9.1 in /usr/local/lib/python3.10/dist-packages (from keras-applications<=1.0.8,>=1.0.7->segmentation_models) (1.22.4)\n",
            "Requirement already satisfied: h5py in /usr/local/lib/python3.10/dist-packages (from keras-applications<=1.0.8,>=1.0.7->segmentation_models) (3.8.0)\n",
            "Requirement already satisfied: scipy>=1.4.1 in /usr/local/lib/python3.10/dist-packages (from scikit-image->efficientnet==1.0.0->segmentation_models) (1.10.1)\n",
            "Requirement already satisfied: networkx>=2.2 in /usr/local/lib/python3.10/dist-packages (from scikit-image->efficientnet==1.0.0->segmentation_models) (3.1)\n",
            "Requirement already satisfied: pillow!=7.1.0,!=7.1.1,!=8.3.0,>=6.1.0 in /usr/local/lib/python3.10/dist-packages (from scikit-image->efficientnet==1.0.0->segmentation_models) (8.4.0)\n",
            "Requirement already satisfied: imageio>=2.4.1 in /usr/local/lib/python3.10/dist-packages (from scikit-image->efficientnet==1.0.0->segmentation_models) (2.25.1)\n",
            "Requirement already satisfied: tifffile>=2019.7.26 in /usr/local/lib/python3.10/dist-packages (from scikit-image->efficientnet==1.0.0->segmentation_models) (2023.4.12)\n",
            "Requirement already satisfied: PyWavelets>=1.1.1 in /usr/local/lib/python3.10/dist-packages (from scikit-image->efficientnet==1.0.0->segmentation_models) (1.4.1)\n",
            "Requirement already satisfied: packaging>=20.0 in /usr/local/lib/python3.10/dist-packages (from scikit-image->efficientnet==1.0.0->segmentation_models) (23.1)\n",
            "Installing collected packages: keras-applications, image-classifiers, efficientnet, segmentation_models\n",
            "Successfully installed efficientnet-1.0.0 image-classifiers-1.0.0 keras-applications-1.0.8 segmentation_models-1.0.1\n"
          ]
        }
      ],
      "source": [
        "%pip install segmentation_models"
      ]
    },
    {
      "cell_type": "code",
      "execution_count": null,
      "id": "7fccdf22",
      "metadata": {
        "colab": {
          "base_uri": "https://localhost:8080/",
          "height": 389
        },
        "id": "7fccdf22",
        "outputId": "045009e6-1e11-4b14-8d41-f3e2ed35eaaf"
      },
      "outputs": [
        {
          "output_type": "error",
          "ename": "AttributeError",
          "evalue": "ignored",
          "traceback": [
            "\u001b[0;31m---------------------------------------------------------------------------\u001b[0m",
            "\u001b[0;31mAttributeError\u001b[0m                            Traceback (most recent call last)",
            "\u001b[0;32m<ipython-input-3-2e83fc074fa5>\u001b[0m in \u001b[0;36m<cell line: 4>\u001b[0;34m()\u001b[0m\n\u001b[1;32m      2\u001b[0m \u001b[0;32mimport\u001b[0m \u001b[0mtensorflow\u001b[0m \u001b[0;32mas\u001b[0m \u001b[0mtf\u001b[0m\u001b[0;34m\u001b[0m\u001b[0;34m\u001b[0m\u001b[0m\n\u001b[1;32m      3\u001b[0m \u001b[0;32mfrom\u001b[0m \u001b[0mtensorflow\u001b[0m\u001b[0;34m.\u001b[0m\u001b[0mkeras\u001b[0m\u001b[0;34m.\u001b[0m\u001b[0moptimizers\u001b[0m \u001b[0;32mimport\u001b[0m \u001b[0mAdam\u001b[0m\u001b[0;34m\u001b[0m\u001b[0;34m\u001b[0m\u001b[0m\n\u001b[0;32m----> 4\u001b[0;31m \u001b[0;32mimport\u001b[0m \u001b[0msegmentation_models\u001b[0m \u001b[0;32mas\u001b[0m \u001b[0msm\u001b[0m\u001b[0;34m\u001b[0m\u001b[0;34m\u001b[0m\u001b[0m\n\u001b[0m\u001b[1;32m      5\u001b[0m \u001b[0msm\u001b[0m\u001b[0;34m.\u001b[0m\u001b[0mset_framework\u001b[0m\u001b[0;34m(\u001b[0m\u001b[0;34m\"tf.keras\"\u001b[0m\u001b[0;34m)\u001b[0m\u001b[0;34m\u001b[0m\u001b[0;34m\u001b[0m\u001b[0m\n\u001b[1;32m      6\u001b[0m \u001b[0;34m\u001b[0m\u001b[0m\n",
            "\u001b[0;32m/usr/local/lib/python3.10/dist-packages/segmentation_models/__init__.py\u001b[0m in \u001b[0;36m<module>\u001b[0;34m\u001b[0m\n\u001b[1;32m     96\u001b[0m \u001b[0m_framework\u001b[0m \u001b[0;34m=\u001b[0m \u001b[0mos\u001b[0m\u001b[0;34m.\u001b[0m\u001b[0menviron\u001b[0m\u001b[0;34m.\u001b[0m\u001b[0mget\u001b[0m\u001b[0;34m(\u001b[0m\u001b[0;34m'SM_FRAMEWORK'\u001b[0m\u001b[0;34m,\u001b[0m \u001b[0m_DEFAULT_KERAS_FRAMEWORK\u001b[0m\u001b[0;34m)\u001b[0m\u001b[0;34m\u001b[0m\u001b[0;34m\u001b[0m\u001b[0m\n\u001b[1;32m     97\u001b[0m \u001b[0;32mtry\u001b[0m\u001b[0;34m:\u001b[0m\u001b[0;34m\u001b[0m\u001b[0;34m\u001b[0m\u001b[0m\n\u001b[0;32m---> 98\u001b[0;31m     \u001b[0mset_framework\u001b[0m\u001b[0;34m(\u001b[0m\u001b[0m_framework\u001b[0m\u001b[0;34m)\u001b[0m\u001b[0;34m\u001b[0m\u001b[0;34m\u001b[0m\u001b[0m\n\u001b[0m\u001b[1;32m     99\u001b[0m \u001b[0;32mexcept\u001b[0m \u001b[0mImportError\u001b[0m\u001b[0;34m:\u001b[0m\u001b[0;34m\u001b[0m\u001b[0;34m\u001b[0m\u001b[0m\n\u001b[1;32m    100\u001b[0m     \u001b[0mother\u001b[0m \u001b[0;34m=\u001b[0m \u001b[0m_TF_KERAS_FRAMEWORK_NAME\u001b[0m \u001b[0;32mif\u001b[0m \u001b[0m_framework\u001b[0m \u001b[0;34m==\u001b[0m \u001b[0m_KERAS_FRAMEWORK_NAME\u001b[0m \u001b[0;32melse\u001b[0m \u001b[0m_KERAS_FRAMEWORK_NAME\u001b[0m\u001b[0;34m\u001b[0m\u001b[0;34m\u001b[0m\u001b[0m\n",
            "\u001b[0;32m/usr/local/lib/python3.10/dist-packages/segmentation_models/__init__.py\u001b[0m in \u001b[0;36mset_framework\u001b[0;34m(name)\u001b[0m\n\u001b[1;32m     66\u001b[0m     \u001b[0;32mif\u001b[0m \u001b[0mname\u001b[0m \u001b[0;34m==\u001b[0m \u001b[0m_KERAS_FRAMEWORK_NAME\u001b[0m\u001b[0;34m:\u001b[0m\u001b[0;34m\u001b[0m\u001b[0;34m\u001b[0m\u001b[0m\n\u001b[1;32m     67\u001b[0m         \u001b[0;32mimport\u001b[0m \u001b[0mkeras\u001b[0m\u001b[0;34m\u001b[0m\u001b[0;34m\u001b[0m\u001b[0m\n\u001b[0;32m---> 68\u001b[0;31m         \u001b[0;32mimport\u001b[0m \u001b[0mefficientnet\u001b[0m\u001b[0;34m.\u001b[0m\u001b[0mkeras\u001b[0m  \u001b[0;31m# init custom objects\u001b[0m\u001b[0;34m\u001b[0m\u001b[0;34m\u001b[0m\u001b[0m\n\u001b[0m\u001b[1;32m     69\u001b[0m     \u001b[0;32melif\u001b[0m \u001b[0mname\u001b[0m \u001b[0;34m==\u001b[0m \u001b[0m_TF_KERAS_FRAMEWORK_NAME\u001b[0m\u001b[0;34m:\u001b[0m\u001b[0;34m\u001b[0m\u001b[0;34m\u001b[0m\u001b[0m\n\u001b[1;32m     70\u001b[0m         \u001b[0;32mfrom\u001b[0m \u001b[0mtensorflow\u001b[0m \u001b[0;32mimport\u001b[0m \u001b[0mkeras\u001b[0m\u001b[0;34m\u001b[0m\u001b[0;34m\u001b[0m\u001b[0m\n",
            "\u001b[0;32m/usr/local/lib/python3.10/dist-packages/efficientnet/keras.py\u001b[0m in \u001b[0;36m<module>\u001b[0;34m\u001b[0m\n\u001b[1;32m     15\u001b[0m \u001b[0mpreprocess_input\u001b[0m \u001b[0;34m=\u001b[0m \u001b[0minject_keras_modules\u001b[0m\u001b[0;34m(\u001b[0m\u001b[0mmodel\u001b[0m\u001b[0;34m.\u001b[0m\u001b[0mpreprocess_input\u001b[0m\u001b[0;34m)\u001b[0m\u001b[0;34m\u001b[0m\u001b[0;34m\u001b[0m\u001b[0m\n\u001b[1;32m     16\u001b[0m \u001b[0;34m\u001b[0m\u001b[0m\n\u001b[0;32m---> 17\u001b[0;31m \u001b[0minit_keras_custom_objects\u001b[0m\u001b[0;34m(\u001b[0m\u001b[0;34m)\u001b[0m\u001b[0;34m\u001b[0m\u001b[0;34m\u001b[0m\u001b[0m\n\u001b[0m",
            "\u001b[0;32m/usr/local/lib/python3.10/dist-packages/efficientnet/__init__.py\u001b[0m in \u001b[0;36minit_keras_custom_objects\u001b[0;34m()\u001b[0m\n\u001b[1;32m     69\u001b[0m     }\n\u001b[1;32m     70\u001b[0m \u001b[0;34m\u001b[0m\u001b[0m\n\u001b[0;32m---> 71\u001b[0;31m     \u001b[0mkeras\u001b[0m\u001b[0;34m.\u001b[0m\u001b[0mutils\u001b[0m\u001b[0;34m.\u001b[0m\u001b[0mgeneric_utils\u001b[0m\u001b[0;34m.\u001b[0m\u001b[0mget_custom_objects\u001b[0m\u001b[0;34m(\u001b[0m\u001b[0;34m)\u001b[0m\u001b[0;34m.\u001b[0m\u001b[0mupdate\u001b[0m\u001b[0;34m(\u001b[0m\u001b[0mcustom_objects\u001b[0m\u001b[0;34m)\u001b[0m\u001b[0;34m\u001b[0m\u001b[0;34m\u001b[0m\u001b[0m\n\u001b[0m\u001b[1;32m     72\u001b[0m \u001b[0;34m\u001b[0m\u001b[0m\n\u001b[1;32m     73\u001b[0m \u001b[0;34m\u001b[0m\u001b[0m\n",
            "\u001b[0;31mAttributeError\u001b[0m: module 'keras.utils.generic_utils' has no attribute 'get_custom_objects'"
          ]
        }
      ],
      "source": [
        "# Neural network libraries\n",
        "import tensorflow as tf\n",
        "from tensorflow.keras.optimizers import Adam\n",
        "import segmentation_models as sm\n",
        "sm.set_framework(\"tf.keras\")\n",
        "\n",
        "# Plotting\n",
        "import matplotlib.pyplot as plt\n",
        "%matplotlib inline\n",
        "\n",
        "# DeepD3\n",
        "from deepd3.model import DeepD3_Model\n",
        "from deepd3.training.stream import DataGeneratorStream"
      ]
    },
    {
      "cell_type": "markdown",
      "id": "232bb972",
      "metadata": {
        "id": "232bb972"
      },
      "source": [
        "## Load training data"
      ]
    },
    {
      "cell_type": "code",
      "execution_count": null,
      "id": "4b70a2b2",
      "metadata": {
        "id": "4b70a2b2"
      },
      "outputs": [],
      "source": [
        "TRAINING_DATA_PATH = r\"DeepD3_Training.d3set\"\n",
        "VALIDATION_DATA_PATH = r\"DeepD3_Validation.d3set\"\n",
        "\n",
        "dg_training = DataGeneratorStream(TRAINING_DATA_PATH,\n",
        "                                  batch_size=32, # Data processed at once, depends on your GPU\n",
        "                                  target_resolution=0.094, # fixed to 94 nm, can be None for mixed resolution training\n",
        "                                  min_content=50) # images need to have at least 50 segmented px\n",
        "\n",
        "dg_validation = DataGeneratorStream(VALIDATION_DATA_PATH,\n",
        "                                    batch_size=32,\n",
        "                                    target_resolution=0.094,\n",
        "                                    min_content=50,\n",
        "                                    augment=False,\n",
        "                                    shuffle=False)"
      ]
    },
    {
      "cell_type": "markdown",
      "id": "6ac109e3",
      "metadata": {
        "id": "6ac109e3"
      },
      "source": [
        "## Visualize data"
      ]
    },
    {
      "cell_type": "markdown",
      "id": "71927db0",
      "metadata": {
        "id": "71927db0"
      },
      "source": [
        "Glancing on the data to verify that settings are as expected."
      ]
    },
    {
      "cell_type": "code",
      "execution_count": null,
      "id": "a63b4a9d",
      "metadata": {
        "id": "a63b4a9d"
      },
      "outputs": [],
      "source": [
        "X, Y = dg_training[0]\n",
        "i = 0\n",
        "\n",
        "plt.figure(figsize=(12,4))\n",
        "\n",
        "plt.subplot(131)\n",
        "plt.imshow(X[i].squeeze(), cmap='gray')\n",
        "plt.colorbar()\n",
        "\n",
        "plt.subplot(132)\n",
        "plt.imshow(Y[0][i].squeeze(), cmap='gray')\n",
        "plt.colorbar()\n",
        "\n",
        "plt.subplot(133)\n",
        "plt.imshow(Y[1][i].squeeze(), cmap='gray')\n",
        "plt.colorbar()\n",
        "\n",
        "plt.tight_layout()"
      ]
    },
    {
      "cell_type": "markdown",
      "id": "d5f94b2c",
      "metadata": {
        "id": "d5f94b2c"
      },
      "source": [
        "## Creating model and set training parameters"
      ]
    },
    {
      "cell_type": "code",
      "execution_count": null,
      "id": "c9c0904a",
      "metadata": {
        "scrolled": false,
        "id": "c9c0904a"
      },
      "outputs": [],
      "source": [
        "# Create a naive DeepD3 model with a given base filter count (e.g. 32)\n",
        "m = DeepD3_Model(filters=32)\n",
        "\n",
        "# Set appropriate training settings\n",
        "m.compile(Adam(learning_rate=0.0005), # optimizer, good default setting, can be tuned\n",
        "          [sm.losses.dice_loss, \"mse\"], # Dice loss for dendrite, MSE for spines\n",
        "          metrics=['acc', sm.metrics.iou_score]) # Metrics for monitoring progress\n",
        "\n",
        "m.summary()"
      ]
    },
    {
      "cell_type": "markdown",
      "id": "816b5652",
      "metadata": {
        "id": "816b5652"
      },
      "source": [
        "## Fitting model"
      ]
    },
    {
      "cell_type": "markdown",
      "id": "0ffe2faf",
      "metadata": {
        "id": "0ffe2faf"
      },
      "source": [
        "Loading some training callbacks, such as adjusting the learning rate across time, saving training progress and intermediate models"
      ]
    },
    {
      "cell_type": "code",
      "execution_count": null,
      "id": "ba233f13",
      "metadata": {
        "id": "ba233f13"
      },
      "outputs": [],
      "source": [
        "from tensorflow.keras.callbacks import ModelCheckpoint, CSVLogger, LearningRateScheduler"
      ]
    },
    {
      "cell_type": "code",
      "execution_count": null,
      "id": "19ec7aa4",
      "metadata": {
        "id": "19ec7aa4"
      },
      "outputs": [],
      "source": [
        "def schedule(epoch, lr):\n",
        "    if epoch < 15:\n",
        "        return lr\n",
        "\n",
        "    else:\n",
        "        return lr * tf.math.exp(-0.1)"
      ]
    },
    {
      "cell_type": "markdown",
      "id": "8b454030",
      "metadata": {
        "id": "8b454030"
      },
      "source": [
        "# Train your own DeepD3 model"
      ]
    },
    {
      "cell_type": "code",
      "execution_count": null,
      "id": "69b4777e",
      "metadata": {
        "id": "69b4777e"
      },
      "outputs": [],
      "source": [
        "EPOCHS = 30\n",
        "\n",
        "# Save best model automatically during training\n",
        "mc = ModelCheckpoint(\"DeepD3_model.h5\",\n",
        "                            save_best_only=True)\n",
        "\n",
        "# Save metrics\n",
        "csv = CSVLogger(\"DeepD3_model.csv\")\n",
        "\n",
        "# Adjust learning rate during training to allow for better convergence\n",
        "lrs = LearningRateScheduler(schedule)\n",
        "\n",
        "# Actually train the network\n",
        "h = m.fit(dg_training,\n",
        "        batch_size=32,\n",
        "        epochs=EPOCHS,\n",
        "        validation_data=dg_validation,\n",
        "        callbacks=[mc, csv, lrs])"
      ]
    },
    {
      "cell_type": "markdown",
      "id": "4994fd8c",
      "metadata": {
        "id": "4994fd8c"
      },
      "source": [
        "## Save model for use in GUI or batch processing"
      ]
    },
    {
      "cell_type": "markdown",
      "id": "27df4412",
      "metadata": {
        "id": "27df4412"
      },
      "source": [
        "This is for saving the neural network manually. The best model is automatically saved during training."
      ]
    },
    {
      "cell_type": "code",
      "execution_count": null,
      "id": "9532e339",
      "metadata": {
        "id": "9532e339"
      },
      "outputs": [],
      "source": [
        "m.save(\"deepd3_custom_trained_model.h5\")"
      ]
    }
  ],
  "metadata": {
    "kernelspec": {
      "display_name": "Python 3.8.10 64-bit",
      "language": "python",
      "name": "python3"
    },
    "language_info": {
      "codemirror_mode": {
        "name": "ipython",
        "version": 3
      },
      "file_extension": ".py",
      "mimetype": "text/x-python",
      "name": "python",
      "nbconvert_exporter": "python",
      "pygments_lexer": "ipython3",
      "version": "3.10.9"
    },
    "vscode": {
      "interpreter": {
        "hash": "916dbcbb3f70747c44a77c7bcd40155683ae19c65e1c03b4aa3499c5328201f1"
      }
    },
    "colab": {
      "provenance": []
    }
  },
  "nbformat": 4,
  "nbformat_minor": 5
}